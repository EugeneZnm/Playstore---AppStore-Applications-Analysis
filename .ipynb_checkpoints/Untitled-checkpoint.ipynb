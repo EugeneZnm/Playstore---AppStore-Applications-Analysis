{
 "cells": [
  {
   "cell_type": "markdown",
   "metadata": {},
   "source": [
    "# An Analysis of Android and iOS Mobile apps \n",
    "\n",
    "The main aim of the project is to find mobile app profiles that are profitable for the App Store and Google \n",
    "play markets. The analysis is to enable the making of data driven decisions with respect to the kind of applications an application creator would build.\n",
    "\n",
    "Their applications are largely free to to download and install with their main revenue streams being in app ads.\n",
    "This means that the revenue for any given application is mostly influenced by the number of users that use an \n",
    "application. The goal of the poject is to analyse data to help developers understand what kinds of appls are \n",
    "likely to attract more users.\n",
    "\n",
    "## Opening and Exploring the Data\n",
    "\n",
    "As of September 2018, there were approximately 2 million iOS apps available on the App Store, and 2.1 million Android apps on Google Play.\n",
    "\n",
    "Collecting data for over four million apps requires a significant amount of time and money, so we'll try to analyze a sample of data instead. To avoid spending resources with collecting new data ourselves, we should first try to see whether we can find any relevant existing data at no cost. Luckily, these are two data sets that seem suitable for our purpose:\n",
    "\n",
    "- [A data set](https://www.kaggle.com/lava18/google-play-store-apps)containing data about approximately ten thousand Android apps from Google Play. You can download the data set directly from [this link](https://dqcontent.s3.amazonaws.com/350/googleplaystore.csv).\n",
    "\n",
    "- [A data set](https://www.kaggle.com/ramamet4/app-store-apple-data-set-10k-apps) containing data about approximately seven thousand iOS apps from the App Store. You can download the data set directly from [this link](https://dqcontent.s3.amazonaws.com/350/AppleStore.csv).\n",
    "\n",
    "Let's start by opening the two data sets and then continue with exploring the data.\"\n"
   ]
  },
  {
   "cell_type": "code",
   "execution_count": 12,
   "metadata": {},
   "outputs": [],
   "source": [
    "from csv import reader\n",
    "\n",
    "opened_file = open('AppleStore.csv')\n",
    "read_file = reader(opened_file)\n",
    "ios = list(read_file)\n",
    "ios_header = ios[0]\n",
    "ios = ios[1:]\n",
    "\n",
    "opened_file = open('googleplaystore.csv')\n",
    "read_file = reader(opened_file)\n",
    "android = list(read_file)\n",
    "android_header = android[0]\n",
    "android = android[1:]\n"
   ]
  },
  {
   "cell_type": "code",
   "execution_count": 16,
   "metadata": {},
   "outputs": [
    {
     "name": "stdout",
     "output_type": "stream",
     "text": [
      "['App', 'Category', 'Rating', 'Reviews', 'Size', 'Installs', 'Type', 'Price', 'Content Rating', 'Genres', 'Last Updated', 'Current Ver', 'Android Ver']\n",
      "\n",
      "\n",
      "['Photo Editor & Candy Camera & Grid & ScrapBook', 'ART_AND_DESIGN', '4.1', '159', '19M', '10,000+', 'Free', '0', 'Everyone', 'Art & Design', 'January 7, 2018', '1.0.0', '4.0.3 and up']\n",
      "\n",
      "\n",
      "['Coloring book moana', 'ART_AND_DESIGN', '3.9', '967', '14M', '500,000+', 'Free', '0', 'Everyone', 'Art & Design;Pretend Play', 'January 15, 2018', '2.0.0', '4.0.3 and up']\n",
      "\n",
      "\n",
      "['U Launcher Lite – FREE Live Cool Themes, Hide Apps', 'ART_AND_DESIGN', '4.7', '87510', '8.7M', '5,000,000+', 'Free', '0', 'Everyone', 'Art & Design', 'August 1, 2018', '1.2.4', '4.0.3 and up']\n",
      "\n",
      "\n",
      "Number of rows: 10841\n",
      "Number of columns: 13\n"
     ]
    }
   ],
   "source": [
    "### explore data function used to repeatedly print rows in a readable way\n",
    "\n",
    "def extract_data(dataset, start, end, rows_and_columns=False):\n",
    "    dataset_slice = dataset[start:end]\n",
    "    for row in dataset_slice:\n",
    "        print(row)\n",
    "        print('\\n')\n",
    "        \n",
    "    if rows_and_columns:\n",
    "        print('Number of rows:' , len(dataset))\n",
    "        print('Number of columns:', len(dataset[0]))\n",
    "        \n",
    "print(android_header)\n",
    "print('\\n')\n",
    "extract_data(android, 0, 3, True)"
   ]
  },
  {
   "cell_type": "code",
   "execution_count": 18,
   "metadata": {},
   "outputs": [
    {
     "name": "stdout",
     "output_type": "stream",
     "text": [
      "['id', 'track_name', 'size_bytes', 'currency', 'price', 'rating_count_tot', 'rating_count_ver', 'user_rating', 'user_rating_ver', 'ver', 'cont_rating', 'prime_genre', 'sup_devices.num', 'ipadSc_urls.num', 'lang.num', 'vpp_lic']\n",
      "\n",
      "\n",
      "['284882215', 'Facebook', '389879808', 'USD', '0.0', '2974676', '212', '3.5', '3.5', '95.0', '4+', 'Social Networking', '37', '1', '29', '1']\n",
      "\n",
      "\n",
      "['389801252', 'Instagram', '113954816', 'USD', '0.0', '2161558', '1289', '4.5', '4.0', '10.23', '12+', 'Photo & Video', '37', '0', '29', '1']\n",
      "\n",
      "\n",
      "['529479190', 'Clash of Clans', '116476928', 'USD', '0.0', '2130805', '579', '4.5', '4.5', '9.24.12', '9+', 'Games', '38', '5', '18', '1']\n",
      "\n",
      "\n",
      "Number of rows: 7197\n",
      "Number of columns: 16\n"
     ]
    }
   ],
   "source": [
    "### getting ios data\n",
    "\n",
    "print(ios_header)\n",
    "print('\\n')\n",
    "extract_data(ios, 0, 3, True)"
   ]
  },
  {
   "cell_type": "code",
   "execution_count": 20,
   "metadata": {},
   "outputs": [
    {
     "name": "stdout",
     "output_type": "stream",
     "text": [
      "['Life Made WI-Fi Touchscreen Photo Frame', '1.9', '19', '3.0M', '1,000+', 'Free', '0', 'Everyone', '', 'February 11, 2018', '1.0.19', '4.0 and up']\n",
      "\n",
      "\n",
      "['App', 'Category', 'Rating', 'Reviews', 'Size', 'Installs', 'Type', 'Price', 'Content Rating', 'Genres', 'Last Updated', 'Current Ver', 'Android Ver']\n",
      "\n",
      "\n",
      "['Photo Editor & Candy Camera & Grid & ScrapBook', 'ART_AND_DESIGN', '4.1', '159', '19M', '10,000+', 'Free', '0', 'Everyone', 'Art & Design', 'January 7, 2018', '1.0.0', '4.0.3 and up']\n"
     ]
    }
   ],
   "source": [
    "print(android[10472])  # incorrect row\n",
    "print('\\n')\n",
    "print(android_header)  # header\n",
    "print('\\n')\n",
    "print(android[0])      # correct row"
   ]
  },
  {
   "cell_type": "code",
   "execution_count": 23,
   "metadata": {},
   "outputs": [
    {
     "name": "stdout",
     "output_type": "stream",
     "text": [
      "10840\n",
      "10839\n"
     ]
    }
   ],
   "source": [
    "### deleting row\n",
    "\n",
    "print(len(android))\n",
    "del android[10472]\n",
    "print(len(android))"
   ]
  },
  {
   "cell_type": "code",
   "execution_count": 29,
   "metadata": {},
   "outputs": [
    {
     "name": "stdout",
     "output_type": "stream",
     "text": [
      "Number of duplicate apps: 1180\n",
      "\n",
      "\n",
      "Examples of duplicate apps: ['Quick PDF Scanner + OCR FREE', 'Box', 'Google My Business', 'ZOOM Cloud Meetings', 'join.me - Simple Meetings', 'Box', 'Zenefits', 'Google Ads', 'Google My Business', 'Slack', 'FreshBooks Classic', 'Insightly CRM', 'QuickBooks Accounting: Invoicing & Expenses', 'HipChat - Chat Built for Teams', 'Xero Accounting Software']\n"
     ]
    }
   ],
   "source": [
    "### removing duplicate appsbased on the name of the applications\n",
    "\n",
    "duplicate_apps = [] ## storing duplicate applications\n",
    "unique_apps = [] ## storing unique applications\n",
    "\n",
    "for apps in android:\n",
    "    name = apps[0]\n",
    "    if name in unique_apps:\n",
    "        duplicate_apps.append(name)\n",
    "    else:\n",
    "        unique_apps.append(name)\n",
    "\n",
    "print('Number of duplicate apps:', len(duplicate_apps))\n",
    "print('\\n')\n",
    "print('Examples of duplicate apps:', duplicate_apps[:15])"
   ]
  },
  {
   "cell_type": "code",
   "execution_count": 37,
   "metadata": {},
   "outputs": [
    {
     "name": "stdout",
     "output_type": "stream",
     "text": [
      "Actual Length: 9659\n"
     ]
    }
   ],
   "source": [
    "### building dictionary with all unique apps\n",
    "\n",
    "reviews_max = {}\n",
    "\n",
    "for app in android:\n",
    "    name = app[0]\n",
    "    n_reviews = float(app[3])\n",
    "    \n",
    "    if name in reviews_max and reviews_max[name] < n_reviews:\n",
    "        reviews_max[name] = n_reviews\n",
    "        \n",
    "    elif name not in reviews_max:\n",
    "        reviews_max[name] = n_reviews\n",
    "        \n",
    "print('Actual Length:', len(reviews_max))        "
   ]
  },
  {
   "cell_type": "code",
   "execution_count": 44,
   "metadata": {
    "scrolled": true
   },
   "outputs": [
    {
     "name": "stdout",
     "output_type": "stream",
     "text": [
      "['Photo Editor & Candy Camera & Grid & ScrapBook', 'ART_AND_DESIGN', '4.1', '159', '19M', '10,000+', 'Free', '0', 'Everyone', 'Art & Design', 'January 7, 2018', '1.0.0', '4.0.3 and up']\n",
      "\n",
      "\n",
      "['U Launcher Lite – FREE Live Cool Themes, Hide Apps', 'ART_AND_DESIGN', '4.7', '87510', '8.7M', '5,000,000+', 'Free', '0', 'Everyone', 'Art & Design', 'August 1, 2018', '1.2.4', '4.0.3 and up']\n",
      "\n",
      "\n",
      "['Sketch - Draw & Paint', 'ART_AND_DESIGN', '4.5', '215644', '25M', '50,000,000+', 'Free', '0', 'Teen', 'Art & Design', 'June 8, 2018', 'Varies with device', '4.2 and up']\n",
      "\n",
      "\n",
      "Number of rows: 9659\n",
      "Number of columns: 13\n"
     ]
    }
   ],
   "source": [
    "### initialising empty lists\n",
    "\n",
    "android_clean = []\n",
    "\n",
    "already_added = []\n",
    "\n",
    "for app in android: ### loop through the android data set for every iteration\n",
    "    name = app[0]\n",
    "    n_reviews = float(app[3])\n",
    "    \n",
    "    if (reviews_max[name] == n_reviews) and (name not in already_added):\n",
    "        android_clean.append(app)\n",
    "        already_added.append(name) \n",
    "        \n",
    "### explore data_set        \n",
    "extract_data(android_clean, 0, 3, True)        "
   ]
  },
  {
   "cell_type": "markdown",
   "metadata": {},
   "source": [
    "# Removing Non-English Apps\n",
    "\n",
    "Removal of applications that are not Enlgish based. We use the ord() function to eliminate characters of a corresponding numerical value higher than the maximum 127 in the ASCII"
   ]
  },
  {
   "cell_type": "code",
   "execution_count": 49,
   "metadata": {},
   "outputs": [
    {
     "name": "stdout",
     "output_type": "stream",
     "text": [
      "True\n",
      "False\n",
      "False\n",
      "False\n"
     ]
    }
   ],
   "source": [
    "\n",
    "def non_english(words):\n",
    "    for i in words:\n",
    "        if ord(i) > 127:\n",
    "            return False\n",
    "    return True\n",
    "\n",
    "print(non_english('Instagram'))\n",
    "print(non_english('爱奇艺PPS -《欢乐颂2》电视剧热播'))\n",
    "print(non_english('Docs To Go™ Free Office Suite'))\n",
    "print(non_english('Instachat 😜'))"
   ]
  },
  {
   "cell_type": "code",
   "execution_count": 52,
   "metadata": {},
   "outputs": [
    {
     "name": "stdout",
     "output_type": "stream",
     "text": [
      "['Photo Editor & Candy Camera & Grid & ScrapBook', 'ART_AND_DESIGN', '4.1', '159', '19M', '10,000+', 'Free', '0', 'Everyone', 'Art & Design', 'January 7, 2018', '1.0.0', '4.0.3 and up']\n",
      "\n",
      "\n",
      "['Sketch - Draw & Paint', 'ART_AND_DESIGN', '4.5', '215644', '25M', '50,000,000+', 'Free', '0', 'Teen', 'Art & Design', 'June 8, 2018', 'Varies with device', '4.2 and up']\n",
      "\n",
      "\n",
      "['Pixel Draw - Number Art Coloring Book', 'ART_AND_DESIGN', '4.3', '967', '2.8M', '100,000+', 'Free', '0', 'Everyone', 'Art & Design;Creativity', 'June 20, 2018', '1.1', '4.4 and up']\n",
      "\n",
      "\n",
      "Number of rows: 9117\n",
      "Number of columns: 13\n",
      "\n",
      "\n",
      "['284882215', 'Facebook', '389879808', 'USD', '0.0', '2974676', '212', '3.5', '3.5', '95.0', '4+', 'Social Networking', '37', '1', '29', '1']\n",
      "\n",
      "\n",
      "['389801252', 'Instagram', '113954816', 'USD', '0.0', '2161558', '1289', '4.5', '4.0', '10.23', '12+', 'Photo & Video', '37', '0', '29', '1']\n",
      "\n",
      "\n",
      "['529479190', 'Clash of Clans', '116476928', 'USD', '0.0', '2130805', '579', '4.5', '4.5', '9.24.12', '9+', 'Games', '38', '5', '18', '1']\n",
      "\n",
      "\n",
      "Number of rows: 5707\n",
      "Number of columns: 16\n"
     ]
    }
   ],
   "source": [
    "android_english = []\n",
    "ios_english = []\n",
    "\n",
    "for app in android_clean:\n",
    "    name = app[0]\n",
    "    if non_english(name):\n",
    "        android_english.append(app)\n",
    "\n",
    "for app in ios:\n",
    "    name = app[1]\n",
    "    if non_english(name):\n",
    "        ios_english.append(app)\n",
    "\n",
    "extract_data(android_english, 0, 3, True)\n",
    "print('\\n')\n",
    "extract_data(ios_english, 0, 3, True)\n"
   ]
  },
  {
   "cell_type": "markdown",
   "metadata": {},
   "source": [
    "# Isolation of the Free Applications"
   ]
  },
  {
   "cell_type": "code",
   "execution_count": 58,
   "metadata": {},
   "outputs": [
    {
     "name": "stdout",
     "output_type": "stream",
     "text": [
      "8408\n",
      "2922\n"
     ]
    }
   ],
   "source": [
    "android_final = []\n",
    "ios_final = []\n",
    "\n",
    "for app in android_english:\n",
    "    price = app[7]\n",
    "    if price == '0':\n",
    "        android_final.append(app)\n",
    "    \n",
    "for app in ios_english:\n",
    "    price = app[4]\n",
    "    if price == '0.0':\n",
    "        ios_final.append(app)\n",
    "        \n",
    "print(len(android_final))\n",
    "print(len(ios_final))"
   ]
  },
  {
   "cell_type": "markdown",
   "metadata": {},
   "source": [
    "# Most Common Apps By Genre\n",
    "\n",
    "Determining the kinds of apps that are more attractive to users by finding out the most common genres in both markets.\n",
    "\n",
    "Building Frequency Tables for the prime_genre column of the App_Store dataset and Genre and Category columns of the Google Play dataset\n",
    "\n",
    "Tasks:\n",
    "- Generate Frequency tables that show percentages\n",
    "- Create function used to display the percentages in descending order"
   ]
  },
  {
   "cell_type": "code",
   "execution_count": 71,
   "metadata": {},
   "outputs": [],
   "source": [
    "def freq_table(dataset, index):\n",
    "    table = {}\n",
    "    total = 0\n",
    "    \n",
    "    for row in dataset:\n",
    "        total += 1\n",
    "        value = row[index]\n",
    "        if value in table:\n",
    "            table[value] += 1\n",
    "        else:\n",
    "            table[value] = 1\n",
    "      \n",
    "    table_percentages = {}\n",
    "    for key in table:\n",
    "        percentage = (table[key] / total) * 100\n",
    "        table_percentages[key] = percentage\n",
    "        \n",
    "    return table_percentages\n",
    "\n",
    "def display_table(dataset, index):\n",
    "    table = freq_table(dataset, index)\n",
    "    table_display = []\n",
    "    for key in table:\n",
    "        key_val_as_tuple = (table[key], key)\n",
    "        table_display.append(key_val_as_tuple)\n",
    "\n",
    "    table_sorted = sorted(table_display, reverse = True)\n",
    "    for entry in table_sorted:\n",
    "        print(entry[1], ':', entry[0])"
   ]
  },
  {
   "cell_type": "markdown",
   "metadata": {},
   "source": [
    "# Examine the frequency table for prime_genre column of the App Store dataset"
   ]
  },
  {
   "cell_type": "code",
   "execution_count": 72,
   "metadata": {},
   "outputs": [
    {
     "name": "stdout",
     "output_type": "stream",
     "text": [
      "Games : 59.171800136892536\n",
      "Entertainment : 7.529089664613278\n",
      "Photo & Video : 5.133470225872689\n",
      "Education : 3.8329911019849416\n",
      "Social Networking : 3.1143052703627654\n",
      "Shopping : 2.4982888432580426\n",
      "Utilities : 2.2587268993839835\n",
      "Music : 2.1560574948665296\n",
      "Sports : 2.0533880903490758\n",
      "Health & Fitness : 1.9849418206707734\n",
      "Productivity : 1.7111567419575633\n",
      "Lifestyle : 1.4715947980835045\n",
      "News : 1.3347022587268993\n",
      "Travel : 1.1293634496919918\n",
      "Finance : 1.0951403148528405\n",
      "Weather : 0.8898015058179329\n",
      "Food & Drink : 0.8898015058179329\n",
      "Reference : 0.5133470225872689\n",
      "Business : 0.5133470225872689\n",
      "Book : 0.2737850787132101\n",
      "Medical : 0.20533880903490762\n",
      "Navigation : 0.13689253935660506\n",
      "Catalogs : 0.10266940451745381\n"
     ]
    }
   ],
   "source": [
    "display_table(ios_final, -5)"
   ]
  },
  {
   "cell_type": "markdown",
   "metadata": {},
   "source": [
    "59% of the applications are games, 7.5% are Entertainment focused, 5% are photo and video applications with education and social networking having 3.8% and 3.1% respectively.\n",
    "\n",
    "Most of the free English applications in the App Store are dominated by applications designed for games, entertainment, photo and video, social networking and shopping.\n",
    "\n",
    "However this is indicative only of the supply of applications across genres and not of their demand by users across the genres, in the App Store."
   ]
  },
  {
   "cell_type": "code",
   "execution_count": 78,
   "metadata": {},
   "outputs": [
    {
     "name": "stdout",
     "output_type": "stream",
     "text": [
      "FAMILY : 18.803520456707897\n",
      "GAME : 9.60989533777355\n",
      "TOOLS : 8.575166508087536\n",
      "BUSINESS : 4.709800190294957\n",
      "PRODUCTIVITY : 3.9724072312083734\n",
      "LIFESTYLE : 3.8891531874405327\n",
      "FINANCE : 3.73453853472883\n",
      "MEDICAL : 3.6393910561370126\n",
      "PERSONALIZATION : 3.306374881065652\n",
      "SPORTS : 3.258801141769743\n",
      "COMMUNICATION : 3.2231208372978117\n",
      "HEALTH_AND_FITNESS : 3.1279733587059946\n",
      "PHOTOGRAPHY : 3.0090390104662226\n",
      "NEWS_AND_MAGAZINES : 2.7949571836346334\n",
      "SOCIAL : 2.664129400570885\n",
      "TRAVEL_AND_LOCAL : 2.3073263558515698\n",
      "SHOPPING : 2.247859181731684\n",
      "BOOKS_AND_REFERENCE : 2.1883920076117986\n",
      "DATING : 1.8315889628924835\n",
      "VIDEO_PLAYERS : 1.7602283539486203\n",
      "MAPS_AND_NAVIGATION : 1.3558515699333968\n",
      "FOOD_AND_DRINK : 1.2012369172216937\n",
      "EDUCATION : 1.165556612749762\n",
      "ENTERTAINMENT : 0.939581351094196\n",
      "AUTO_AND_VEHICLES : 0.939581351094196\n",
      "LIBRARIES_AND_DEMO : 0.9039010466222646\n",
      "HOUSE_AND_HOME : 0.8087535680304472\n",
      "WEATHER : 0.7968601332064701\n",
      "EVENTS : 0.7136060894386299\n",
      "ART_AND_DESIGN : 0.6660323501427212\n",
      "PARENTING : 0.6541389153187441\n",
      "BEAUTY : 0.6303520456707897\n",
      "COMICS : 0.570884871550904\n"
     ]
    }
   ],
   "source": [
    "display_table(android_final, 1)"
   ]
  },
  {
   "cell_type": "markdown",
   "metadata": {},
   "source": [
    "The genre column of the Android application shows that most applications are designed for family, games, tools and business."
   ]
  },
  {
   "cell_type": "code",
   "execution_count": 77,
   "metadata": {},
   "outputs": [
    {
     "name": "stdout",
     "output_type": "stream",
     "text": [
      "Tools : 8.563273073263558\n",
      "Entertainment : 6.089438629876309\n",
      "Education : 5.387725975261656\n",
      "Business : 4.709800190294957\n",
      "Productivity : 3.9724072312083734\n",
      "Lifestyle : 3.8772597526165553\n",
      "Finance : 3.73453853472883\n",
      "Medical : 3.6393910561370126\n",
      "Sports : 3.3301617507136063\n",
      "Personalization : 3.306374881065652\n",
      "Communication : 3.2231208372978117\n",
      "Health & Fitness : 3.1279733587059946\n",
      "Action : 3.116079923882017\n",
      "Photography : 3.0090390104662226\n",
      "News & Magazines : 2.7949571836346334\n",
      "Social : 2.664129400570885\n",
      "Travel & Local : 2.3073263558515698\n",
      "Shopping : 2.247859181731684\n",
      "Books & Reference : 2.1883920076117986\n",
      "Simulation : 2.0813510941960036\n",
      "Dating : 1.8315889628924835\n",
      "Arcade : 1.8315889628924835\n",
      "Casual : 1.7721217887725977\n",
      "Video Players & Editors : 1.736441484300666\n",
      "Maps & Navigation : 1.3558515699333968\n",
      "Food & Drink : 1.2012369172216937\n",
      "Puzzle : 1.1298763082778307\n",
      "Racing : 1.0228353948620361\n",
      "Role Playing : 0.939581351094196\n",
      "Auto & Vehicles : 0.939581351094196\n",
      "Strategy : 0.9039010466222646\n",
      "Libraries & Demo : 0.9039010466222646\n",
      "House & Home : 0.8087535680304472\n",
      "Weather : 0.7968601332064701\n",
      "Events : 0.7136060894386299\n",
      "Adventure : 0.6541389153187441\n",
      "Beauty : 0.6303520456707897\n",
      "Art & Design : 0.6184586108468125\n",
      "Comics : 0.5589914367269267\n",
      "Parenting : 0.49952426260704097\n",
      "Trivia : 0.4162702188392008\n",
      "Educational;Education : 0.4162702188392008\n",
      "Card : 0.4043767840152236\n",
      "Educational : 0.3805899143672693\n",
      "Casino : 0.3805899143672693\n",
      "Board : 0.3686964795432921\n",
      "Education;Education : 0.34490960989533775\n",
      "Word : 0.24976213130352048\n",
      "Music : 0.2021883920076118\n",
      "Casual;Pretend Play : 0.19029495718363465\n",
      "Puzzle;Brain Games : 0.17840152235965748\n",
      "Racing;Action & Adventure : 0.142721217887726\n",
      "Casual;Brain Games : 0.142721217887726\n",
      "Entertainment;Music & Video : 0.13082778306374881\n",
      "Casual;Action & Adventure : 0.13082778306374881\n",
      "Arcade;Action & Adventure : 0.10704091341579447\n",
      "Simulation;Action & Adventure : 0.08325404376784015\n",
      "Parenting;Education : 0.08325404376784015\n",
      "Educational;Pretend Play : 0.08325404376784015\n",
      "Action;Action & Adventure : 0.08325404376784015\n",
      "Entertainment;Brain Games : 0.071360608943863\n",
      "Art & Design;Creativity : 0.071360608943863\n",
      "Parenting;Music & Video : 0.05946717411988582\n",
      "Education;Pretend Play : 0.05946717411988582\n",
      "Board;Brain Games : 0.05946717411988582\n",
      "Role Playing;Pretend Play : 0.04757373929590866\n",
      "Educational;Brain Games : 0.04757373929590866\n",
      "Education;Creativity : 0.04757373929590866\n",
      "Casual;Creativity : 0.04757373929590866\n",
      "Role Playing;Action & Adventure : 0.0356803044719315\n",
      "Puzzle;Action & Adventure : 0.0356803044719315\n",
      "Educational;Creativity : 0.0356803044719315\n",
      "Education;Music & Video : 0.0356803044719315\n",
      "Education;Action & Adventure : 0.0356803044719315\n",
      "Adventure;Action & Adventure : 0.0356803044719315\n",
      "Video Players & Editors;Music & Video : 0.02378686964795433\n",
      "Sports;Action & Adventure : 0.02378686964795433\n",
      "Simulation;Pretend Play : 0.02378686964795433\n",
      "Puzzle;Creativity : 0.02378686964795433\n",
      "Music;Music & Video : 0.02378686964795433\n",
      "Entertainment;Pretend Play : 0.02378686964795433\n",
      "Entertainment;Creativity : 0.02378686964795433\n",
      "Entertainment;Action & Adventure : 0.02378686964795433\n",
      "Educational;Action & Adventure : 0.02378686964795433\n",
      "Education;Brain Games : 0.02378686964795433\n",
      "Casual;Education : 0.02378686964795433\n",
      "Board;Action & Adventure : 0.02378686964795433\n",
      "Video Players & Editors;Creativity : 0.011893434823977166\n",
      "Trivia;Education : 0.011893434823977166\n",
      "Tools;Education : 0.011893434823977166\n",
      "Strategy;Education : 0.011893434823977166\n",
      "Strategy;Creativity : 0.011893434823977166\n",
      "Simulation;Education : 0.011893434823977166\n",
      "Role Playing;Brain Games : 0.011893434823977166\n",
      "Racing;Pretend Play : 0.011893434823977166\n",
      "Puzzle;Education : 0.011893434823977166\n",
      "Parenting;Brain Games : 0.011893434823977166\n",
      "Music & Audio;Music & Video : 0.011893434823977166\n",
      "Lifestyle;Pretend Play : 0.011893434823977166\n",
      "Health & Fitness;Education : 0.011893434823977166\n",
      "Health & Fitness;Action & Adventure : 0.011893434823977166\n",
      "Entertainment;Education : 0.011893434823977166\n",
      "Comics;Creativity : 0.011893434823977166\n",
      "Card;Action & Adventure : 0.011893434823977166\n",
      "Books & Reference;Education : 0.011893434823977166\n",
      "Art & Design;Pretend Play : 0.011893434823977166\n",
      "Art & Design;Action & Adventure : 0.011893434823977166\n",
      "Adventure;Education : 0.011893434823977166\n"
     ]
    }
   ],
   "source": [
    "display_table(android_final, -4)"
   ]
  },
  {
   "cell_type": "markdown",
   "metadata": {},
   "source": [
    "The Genres column is more detailed and nuanced but shows that applications serving as tools are the most popular"
   ]
  },
  {
   "cell_type": "markdown",
   "metadata": {},
   "source": [
    "# Most Popular Apps by Genre on App Store\n",
    "\n",
    "This can be discovered by calculating the average number of installs for each app genre. In the google play data set, the figures are found in the Installs column. However in the App Store data, the data is missing but we can use user ratings to determine popularity."
   ]
  },
  {
   "cell_type": "code",
   "execution_count": 80,
   "metadata": {},
   "outputs": [
    {
     "name": "stdout",
     "output_type": "stream",
     "text": [
      "Social Networking : 78567.30769230769\n",
      "Photo & Video : 29249.766666666666\n",
      "Games : 21560.75072296125\n",
      "Music : 55396.01587301587\n",
      "Reference : 89562.6\n",
      "Health & Fitness : 19418.620689655174\n",
      "Weather : 48275.57692307692\n",
      "Travel : 34115.57575757576\n",
      "Shopping : 28877.575342465752\n",
      "News : 23382.17948717949\n",
      "Navigation : 125037.25\n",
      "Lifestyle : 17260.53488372093\n",
      "Entertainment : 15006.227272727272\n",
      "Food & Drink : 33333.92307692308\n",
      "Sports : 25791.666666666668\n",
      "Finance : 26038.6875\n",
      "Education : 6103.464285714285\n",
      "Productivity : 22842.22\n",
      "Utilities : 11571.69696969697\n",
      "Book : 16671.0\n",
      "Business : 6839.6\n",
      "Catalogs : 5195.0\n",
      "Medical : 612.0\n"
     ]
    }
   ],
   "source": [
    "genre_ios = freq_table(ios_final, -5)\n",
    "\n",
    "for genre in genre_ios:\n",
    "    total = 0 # total number of ratings\n",
    "    len_genre = 0 # total number of applications\n",
    "    for app in ios_final:\n",
    "        genre_app = app[-5]  # finding the genre of the applications\n",
    "        if genre_app == genre:\n",
    "            n_ratings =float(app[5]) # getting the rating of application\n",
    "            total += n_ratings # add rating to total ratings\n",
    "            len_genre += 1 # add new app to the number of genres\n",
    "    avg_n_ratings = total / len_genre\n",
    "    print(genre, \":\", avg_n_ratings)\n",
    "    "
   ]
  },
  {
   "cell_type": "markdown",
   "metadata": {},
   "source": [
    "Navigation have the highest number of reviews. "
   ]
  },
  {
   "cell_type": "code",
   "execution_count": 81,
   "metadata": {},
   "outputs": [
    {
     "name": "stdout",
     "output_type": "stream",
     "text": [
      "Waze - GPS Navigation, Maps & Real-time Traffic : 345046\n",
      "Google Maps - Navigation & Transit : 154911\n",
      "ImmobilienScout24: Real Estate Search in Germany : 187\n",
      "Railway Route Search : 5\n"
     ]
    }
   ],
   "source": [
    "for app in ios_final:\n",
    "    if app[-5] == 'Navigation':\n",
    "        # print app and number of ratings\n",
    "        print(app[1], ':', app[5]) "
   ]
  },
  {
   "cell_type": "markdown",
   "metadata": {},
   "source": [
    "The ratings associated with navigation apps are divided amongst 4 different applications with majority of the ratings attributed to Waze (4.5k) and Google Maps(15.49k)"
   ]
  },
  {
   "cell_type": "code",
   "execution_count": 87,
   "metadata": {},
   "outputs": [
    {
     "name": "stdout",
     "output_type": "stream",
     "text": [
      "Facebook : 2974676\n",
      "Pinterest : 1061624\n",
      "Skype for iPhone : 373519\n",
      "Messenger : 351466\n",
      "Tumblr : 334293\n",
      "WhatsApp Messenger : 287589\n",
      "Kik : 260965\n",
      "TextNow - Unlimited Text + Calls : 164963\n",
      "Followers - Social Analytics For Instagram : 112778\n",
      "MeetMe - Chat and Meet New People : 97072\n",
      "We Heart It - Fashion, wallpapers, quotes, tattoos : 90414\n",
      "InsTrack for Instagram - Analytics Plus More : 85535\n",
      "Tango - Free Video Call, Voice and Chat : 75412\n",
      "LinkedIn : 71856\n",
      "Skype for iPad : 60163\n",
      "POF - Best Dating App for Conversations : 52642\n",
      "Timehop : 49510\n",
      "Find My Family, Friends & iPhone - Life360 Locator : 43877\n",
      "Whisper - Share, Express, Meet : 39819\n",
      "Hangouts : 36404\n",
      "LINE PLAY - Your Avatar World : 34677\n",
      "WeChat : 34584\n",
      "Badoo - Meet New People, Chat, Socialize. : 34428\n",
      "Followers + for Instagram - Follower Analytics : 28633\n",
      "GroupMe : 28260\n",
      "Marco Polo Video Walkie Talkie : 27662\n",
      "Miitomo : 23965\n",
      "SimSimi : 23530\n",
      "Grindr - Gay and same sex guys chat, meet and date : 23201\n",
      "Wishbone - Compare Anything : 20649\n",
      "imo video calls and chat : 18841\n",
      "After School - Funny Anonymous School News : 18482\n",
      "Quick Reposter - Repost, Regram and Reshare Photos : 17694\n",
      "Weibo HD : 16772\n",
      "Repost for Instagram : 15185\n",
      "Nextdoor : 14402\n",
      "Followers Analytics for Instagram - InstaReport : 13914\n",
      "YouNow: Live Stream Video Chat : 12079\n",
      "FollowMeter for Instagram - Followers Tracking : 11976\n",
      "LINE : 11437\n",
      "Discord - Chat for Gamers : 9152\n",
      "QQ : 9109\n",
      "Telegram Messenger : 7573\n",
      "Weibo : 7265\n",
      "Periscope - Live Video Streaming Around the World : 6062\n",
      "Chat for Whatsapp - iPad Version : 5060\n",
      "QQ HD : 5058\n",
      "Followers Analysis Tool For Instagram App Free : 4253\n",
      "live.ly - live video streaming : 4145\n",
      "Houseparty - Group Video Chat : 3991\n",
      "SOMA Messenger : 3232\n",
      "Monkey : 3060\n",
      "Down To Lunch : 2535\n",
      "Flinch - Video Chat Staring Contest : 2134\n",
      "Highrise - Your Avatar Community : 2011\n",
      "LOVOO - Dating Chat : 1985\n",
      "BOO! - Video chat camera with filters & stickers : 1805\n",
      "Qzone : 1649\n",
      "Chatous - Chat with new people : 1609\n",
      "Kiwi - Q&A : 1538\n",
      "GhostCodes - a discovery app for Snapchat : 1313\n",
      "Jodel : 1193\n",
      "FireChat : 1037\n",
      "Google Duo - simple video calling : 1033\n",
      "Fiesta by Tango - Chat & Meet New People : 885\n",
      "Hey! VINA - Where Women Meet New Friends : 719\n",
      "All Devices for WhatsApp - Messenger for iPad : 682\n",
      "Chat for Pokemon Go - GoChat : 500\n",
      "Qzone HD : 458\n",
      "Zenly - Locate your friends in realtime : 427\n",
      "League of Legends Friends : 420\n",
      "Candid - Speak Your Mind Freely : 398\n",
      "Selfeo : 366\n",
      "Popcorn Buzz - Free Group Calls : 281\n",
      "QQ International : 274\n",
      "Ameba : 269\n",
      "SoundCloud Pulse: for creators : 240\n",
      "Tantan : 235\n",
      "Cougar Dating & Life Style App for Mature Women : 213\n",
      "Rawr Messenger - Dab your chat : 180\n",
      "WhenToPost: Best Time to Post Photos for Instagram : 158\n",
      "Mustknow - anonymous video Q&A : 53\n",
      "CTFxCmoji : 39\n",
      "Lobi : 36\n",
      "Chain: Collaborate On MyVideo Story/Group Video : 35\n",
      "botman - Real time video chat : 7\n",
      "BestieBox : 0\n",
      "MATCH ON LINE chat : 0\n",
      "niconico ch : 0\n",
      "LINE BLOG : 0\n",
      "bit-tube - Live Stream Video Chat : 0\n",
      "\n",
      "\n",
      "Pandora - Music & Radio : 1126879\n",
      "\n",
      "\n",
      "Spotify Music : 878563\n",
      "\n",
      "\n",
      "Shazam - Discover music, artists, videos & lyrics : 402925\n",
      "\n",
      "\n",
      "SoundCloud - Music & Audio : 135744\n",
      "\n",
      "\n",
      "Magic Piano by Smule : 131695\n",
      "\n",
      "\n",
      "Smule Sing! : 119316\n",
      "\n",
      "\n",
      "TuneIn Radio - MLB NBA Audiobooks Podcasts Music : 110420\n",
      "\n",
      "\n",
      "Amazon Music : 106235\n",
      "\n",
      "\n",
      "SoundHound Song Search & Music Player : 82602\n",
      "\n",
      "\n",
      "Sonos Controller : 48905\n",
      "\n",
      "\n",
      "Bandsintown Concerts : 30845\n",
      "\n",
      "\n",
      "Karaoke - Sing Karaoke, Unlimited Songs! : 28606\n",
      "\n",
      "\n",
      "My Mixtapez Music : 26286\n",
      "\n",
      "\n",
      "Sing Karaoke Songs Unlimited with StarMaker : 26227\n",
      "\n",
      "\n",
      "Ringtones for iPhone & Ringtone Maker : 25403\n",
      "\n",
      "\n",
      "Musi - Unlimited Music For YouTube : 25193\n",
      "\n",
      "\n",
      "AutoRap by Smule : 18202\n",
      "\n",
      "\n",
      "Spinrilla - Mixtapes For Free : 15053\n",
      "\n",
      "\n",
      "Napster - Top Music & Radio : 14268\n",
      "\n",
      "\n",
      "edjing Mix:DJ turntable to remix and scratch music : 13580\n",
      "\n",
      "\n",
      "Free Music - MP3 Streamer & Playlist Manager Pro : 13443\n",
      "\n",
      "\n",
      "Free Piano app by Yokee : 13016\n",
      "\n",
      "\n",
      "Google Play Music : 10118\n",
      "\n",
      "\n",
      "Certified Mixtapes - Hip Hop Albums & Mixtapes : 9975\n",
      "\n",
      "\n",
      "TIDAL : 7398\n",
      "\n",
      "\n",
      "YouTube Music : 7109\n",
      "\n",
      "\n",
      "Nicki Minaj: The Empire : 5196\n",
      "\n",
      "\n",
      "Sounds app - Music And Friends : 5126\n",
      "\n",
      "\n",
      "SongFlip - Free Music Streamer : 5004\n",
      "\n",
      "\n",
      "Simple Radio - Live AM & FM Radio Stations : 4787\n",
      "\n",
      "\n",
      "Deezer - Listen to your Favorite Music & Playlists : 4677\n",
      "\n",
      "\n",
      "Ringtones for iPhone with Ringtone Maker : 4013\n",
      "\n",
      "\n",
      "Bose SoundTouch : 3687\n",
      "\n",
      "\n",
      "Amazon Alexa : 3018\n",
      "\n",
      "\n",
      "DatPiff : 2815\n",
      "\n",
      "\n",
      "Trebel Music - Unlimited Music Downloader : 2570\n",
      "\n",
      "\n",
      "Free Music Play - Mp3 Streamer & Player : 2496\n",
      "\n",
      "\n",
      "Acapella from PicPlayPost : 2487\n",
      "\n",
      "\n",
      "Coach Guitar - Lessons & Easy Tabs For Beginners : 2416\n",
      "\n",
      "\n",
      "Musicloud - MP3 and FLAC Music Player for Cloud Platforms. : 2211\n",
      "\n",
      "\n",
      "Piano - Play Keyboard Music Games with Magic Tiles : 1636\n",
      "\n",
      "\n",
      "Boom: Best Equalizer & Magical Surround Sound : 1375\n",
      "\n",
      "\n",
      "Music Freedom - Unlimited Free MP3 Music Streaming : 1246\n",
      "\n",
      "\n",
      "AmpMe - A Portable Social Party Music Speaker : 1047\n",
      "\n",
      "\n",
      "Medly - Music Maker : 933\n",
      "\n",
      "\n",
      "Bose Connect : 915\n",
      "\n",
      "\n",
      "Music Memos : 909\n",
      "\n",
      "\n",
      "UE BOOM : 612\n",
      "\n",
      "\n",
      "LiveMixtapes : 555\n",
      "\n",
      "\n",
      "NOISE : 355\n",
      "\n",
      "\n",
      "MP3 Music Player & Streamer for Clouds : 329\n",
      "\n",
      "\n",
      "Musical Video Maker - Create Music clips lip sync : 320\n",
      "\n",
      "\n",
      "Cloud Music Player - Downloader & Playlist Manager : 319\n",
      "\n",
      "\n",
      "Remixlive - Remix loops with pads : 288\n",
      "\n",
      "\n",
      "Blocs Wave - Make & Record Music : 158\n",
      "\n",
      "\n",
      "Music and Chill : 135\n",
      "\n",
      "\n",
      "The Singing Machine Mobile Karaoke App : 130\n",
      "\n",
      "\n",
      "radio.de - Der Radioplayer : 64\n",
      "\n",
      "\n",
      "Free Music -  Player & Streamer  for Dropbox, OneDrive & Google Drive : 46\n",
      "\n",
      "\n",
      "NRJ Radio : 38\n",
      "\n",
      "\n",
      "Smart Music: Streaming Videos and Radio : 17\n",
      "\n",
      "\n",
      "BOSS Tuner : 13\n",
      "\n",
      "\n",
      "PetitLyrics : 0\n"
     ]
    }
   ],
   "source": [
    "for app in ios_final:\n",
    "    if app[-5] == 'Social Networking':\n",
    "        # print social networking apps and number of ratings\n",
    "        print(app[1], ':', app[5]) \n",
    "        \n",
    "        \n",
    "for app in ios_final:\n",
    "    if app[-5] == 'Music':\n",
    "        print('\\n')\n",
    "        # print music apps and number of ratings\n",
    "        print(app[1], ':', app[5])         "
   ]
  },
  {
   "cell_type": "markdown",
   "metadata": {},
   "source": [
    "The number of ratings distributed across genres such as: music, social networking and navigation are all attributed to a small pool of applications in the genres which account for a vast proportion of the ratings."
   ]
  },
  {
   "cell_type": "code",
   "execution_count": 89,
   "metadata": {},
   "outputs": [
    {
     "name": "stdout",
     "output_type": "stream",
     "text": [
      "Bible : 985920\n",
      "Dictionary.com Dictionary & Thesaurus : 200047\n",
      "Dictionary.com Dictionary & Thesaurus for iPad : 54175\n",
      "Google Translate : 26786\n",
      "Muslim Pro: Ramadan 2017 Prayer Times, Azan, Quran : 18418\n",
      "New Furniture Mods - Pocket Wiki & Game Tools for Minecraft PC Edition : 17588\n",
      "Merriam-Webster Dictionary : 16849\n",
      "Night Sky : 12122\n",
      "City Maps for Minecraft PE - The Best Maps for Minecraft Pocket Edition (MCPE) : 8535\n",
      "GUNS MODS for Minecraft PC Edition - Mods Tools : 1497\n",
      "WWDC : 762\n",
      "Horror Maps for Minecraft PE - Download The Scariest Maps for Minecraft Pocket Edition (MCPE) Free : 718\n",
      "VPN Express : 14\n",
      "Real Bike Traffic Rider Virtual Reality Glasses : 8\n",
      "Jishokun-Japanese English Dictionary & Translator : 0\n"
     ]
    }
   ],
   "source": [
    "for app in ios_final:\n",
    "    if app[-5] == 'Reference':\n",
    "        # print REFRENCE apps and the rating\n",
    "        print(app[1], \":\", app[5])"
   ]
  },
  {
   "cell_type": "markdown",
   "metadata": {},
   "source": [
    "However, this niche seems to show some potential. One thing we could do is take another popular book and turn it into an app where we could add different features besides the raw version of the book. This might include daily quotes from the book, an audio version of the book, quizzes about the book, etc. On top of that, we could also embed a dictionary within the app, so users don't need to exit our app to look up words in an external app.\n",
    "\n",
    "This idea seems to fit well with the fact that the App Store is dominated by for-fun apps. This suggests the market might be a bit saturated with for-fun apps, which means a practical app might have more of a chance to stand out among the huge number of apps on the App Store.\n",
    "\n",
    "Other genres that seem popular include weather, book, food and drink, or finance. The book genre seem to overlap a bit with the app idea we described above, but the other genres don't seem too interesting to us:\n",
    "\n",
    "- Weather apps — people generally don't spend too much time in-app, and the chances of making profit from in-app adds are low. Also, getting reliable live weather data may require us to connect our apps to non-free APIs.\n",
    "\n",
    "- Food and drink — examples here include Starbucks, Dunkin' Donuts, McDonald's, etc. So making a popular food and drink app requires actual cooking and a delivery service, which is outside the scope of our company.\n",
    "\n",
    "- Finance apps — these apps involve banking, paying bills, money transfer, etc. Building a finance app requires domain knowledge, and we don't want to hire a finance expert just to build an app."
   ]
  },
  {
   "cell_type": "markdown",
   "metadata": {},
   "source": [
    "# Most Popular Apps by Genre on Google Play\n",
    "\n",
    "Getting a clear picture about genre popularity of applications in the Google Play Store."
   ]
  },
  {
   "cell_type": "code",
   "execution_count": 92,
   "metadata": {},
   "outputs": [
    {
     "name": "stdout",
     "output_type": "stream",
     "text": [
      "1,000,000+ : 15.592293054234062\n",
      "100,000+ : 11.596098953377735\n",
      "10,000+ : 10.442435775451951\n",
      "10,000,000+ : 10.323501427212179\n",
      "1,000+ : 8.480019029495718\n",
      "100+ : 7.088487155090391\n",
      "5,000,000+ : 6.660323501427213\n",
      "500,000+ : 5.5542340627973354\n",
      "50,000+ : 4.7216936251189345\n",
      "5,000+ : 4.5313986679353\n",
      "10+ : 3.5442435775451955\n",
      "500+ : 3.246907706945766\n",
      "50,000,000+ : 2.2121788772597526\n",
      "100,000,000+ : 2.1289248334919124\n",
      "50+ : 1.9743101807802093\n",
      "5+ : 0.8206470028544244\n",
      "1+ : 0.5114176974310181\n",
      "500,000,000+ : 0.285442435775452\n",
      "1,000,000,000+ : 0.22597526165556614\n",
      "0+ : 0.04757373929590866\n",
      "0 : 0.011893434823977166\n"
     ]
    }
   ],
   "source": [
    "display_table(android_final, 5) # number of installs"
   ]
  },
  {
   "cell_type": "markdown",
   "metadata": {},
   "source": [
    "There is a lack of precision with regards to the exact number of installs among applications.\n",
    "\n",
    "The number of installs will be converted to float characters. to perform computations more effectively."
   ]
  },
  {
   "cell_type": "code",
   "execution_count": 94,
   "metadata": {},
   "outputs": [
    {
     "name": "stdout",
     "output_type": "stream",
     "text": [
      "ART_AND_DESIGN : 1932519.642857143\n",
      "AUTO_AND_VEHICLES : 645317.2278481013\n",
      "BEAUTY : 513151.88679245283\n",
      "BOOKS_AND_REFERENCE : 8504745.97826087\n",
      "BUSINESS : 1602958.308080808\n",
      "COMICS : 880440.625\n",
      "COMMUNICATION : 36106662.328413285\n",
      "DATING : 764959.4610389611\n",
      "EDUCATION : 1844897.9591836734\n",
      "ENTERTAINMENT : 12346329.11392405\n",
      "EVENTS : 232885.83333333334\n",
      "FINANCE : 1348224.9426751593\n",
      "FOOD_AND_DRINK : 1974937.1386138613\n",
      "HEALTH_AND_FITNESS : 4263642.1749049425\n",
      "HOUSE_AND_HOME : 1391211.1911764706\n",
      "LIBRARIES_AND_DEMO : 674917.2368421053\n",
      "LIFESTYLE : 1375297.3058103975\n",
      "GAME : 15434835.816831684\n",
      "FAMILY : 3633707.342820999\n",
      "MEDICAL : 119216.81045751635\n",
      "SOCIAL : 24441088.17857143\n",
      "SHOPPING : 7307823.2010582015\n",
      "PHOTOGRAPHY : 18099283.85375494\n",
      "SPORTS : 3647640.208029197\n",
      "TRAVEL_AND_LOCAL : 14487541.68041237\n",
      "TOOLS : 11084333.292649098\n",
      "PERSONALIZATION : 5027006.791366907\n",
      "PRODUCTIVITY : 16972497.946107786\n",
      "PARENTING : 544745.6363636364\n",
      "WEATHER : 5219216.7164179105\n",
      "VIDEO_PLAYERS : 25234606.216216218\n",
      "NEWS_AND_MAGAZINES : 10006311.10638298\n",
      "MAPS_AND_NAVIGATION : 4304432.280701755\n"
     ]
    }
   ],
   "source": [
    "categories_android = freq_table(android_final, 1)\n",
    "\n",
    "for category in categories_android:\n",
    "    total = 0\n",
    "    len_category = 0\n",
    "    for app in android_final:\n",
    "        category_app = app[1]\n",
    "        if category_app == category:\n",
    "            n_installs = app[5]\n",
    "            n_installs = n_installs.replace(',', '')\n",
    "            n_installs = n_installs.replace('+', '')\n",
    "            total += float(n_installs)\n",
    "            len_category += 1\n",
    "    avg_n_installs = total/ len_category\n",
    "    print(category, ':', avg_n_installs)"
   ]
  },
  {
   "cell_type": "markdown",
   "metadata": {},
   "source": [
    "On average, communication apps have the most installs: 38,456,119. This number is heavily skewed up by a few apps that have over one billion installs (WhatsApp, Facebook Messenger, Skype, Google Chrome, Gmail, and Hangouts), and a few others with over 100 and 500 million installs."
   ]
  },
  {
   "cell_type": "code",
   "execution_count": 107,
   "metadata": {},
   "outputs": [
    {
     "name": "stdout",
     "output_type": "stream",
     "text": [
      "WhatsApp Messenger : 1,000,000,000+\n",
      "imo beta free calls and text : 100,000,000+\n",
      "Android Messages : 100,000,000+\n",
      "Google Duo - High Quality Video Calls : 500,000,000+\n",
      "imo free video calls and chat : 500,000,000+\n",
      "Skype - free IM & video calls : 1,000,000,000+\n",
      "Who : 100,000,000+\n",
      "GO SMS Pro - Messenger, Free Themes, Emoji : 100,000,000+\n",
      "LINE: Free Calls & Messages : 500,000,000+\n",
      "Google Chrome: Fast & Secure : 1,000,000,000+\n",
      "Firefox Browser fast & private : 100,000,000+\n",
      "UC Browser - Fast Download Private & Secure : 500,000,000+\n",
      "Gmail : 1,000,000,000+\n",
      "Hangouts : 1,000,000,000+\n",
      "Messenger Lite: Free Calls & Messages : 100,000,000+\n",
      "Kik : 100,000,000+\n",
      "KakaoTalk: Free Calls & Text : 100,000,000+\n",
      "Opera Mini - fast web browser : 100,000,000+\n",
      "Opera Browser: Fast and Secure : 100,000,000+\n",
      "Telegram : 100,000,000+\n",
      "Truecaller: Caller ID, SMS spam blocking & Dialer : 100,000,000+\n",
      "UC Browser Mini -Tiny Fast Private & Secure : 100,000,000+\n",
      "Viber Messenger : 500,000,000+\n",
      "WeChat : 100,000,000+\n",
      "BBM - Free Calls & Messages : 100,000,000+\n"
     ]
    }
   ],
   "source": [
    "for app in android_final:\n",
    "    if app[1] == 'COMMUNICATION' and (app[5] == '1,000,000,000+' or app[5] == '500,000,000+' or app[5] == '100,000,000+'):\n",
    "        print(app[0], \":\", app[5])    "
   ]
  },
  {
   "cell_type": "markdown",
   "metadata": {},
   "source": [
    "Removal of communication apps with over 100m+ installations, the average installations drops by as much as ten times."
   ]
  },
  {
   "cell_type": "code",
   "execution_count": 109,
   "metadata": {},
   "outputs": [
    {
     "data": {
      "text/plain": [
       "17988366.507518798"
      ]
     },
     "execution_count": 109,
     "metadata": {},
     "output_type": "execute_result"
    }
   ],
   "source": [
    "under_100_m = []\n",
    "\n",
    "for app in android_final:\n",
    "    n_installs = app[5]\n",
    "    n_installs = n_installs.replace(',', '')\n",
    "    n_installs = n_installs.replace('+', '')\n",
    "    if (app[1] == 'COMMUNICATION') and (float(n_installs)<1000000000):\n",
    "        under_100_m.append(float(n_installs))\n",
    "sum(under_100_m) / len(under_100_m)        "
   ]
  },
  {
   "cell_type": "code",
   "execution_count": 110,
   "metadata": {},
   "outputs": [
    {
     "name": "stdout",
     "output_type": "stream",
     "text": [
      "E-Book Read - Read Book for free : 50,000+\n",
      "Download free book with green book : 100,000+\n",
      "Wikipedia : 10,000,000+\n",
      "Cool Reader : 10,000,000+\n",
      "Free Panda Radio Music : 100,000+\n",
      "Book store : 1,000,000+\n",
      "FBReader: Favorite Book Reader : 10,000,000+\n",
      "English Grammar Complete Handbook : 500,000+\n",
      "Free Books - Spirit Fanfiction and Stories : 1,000,000+\n",
      "Google Play Books : 1,000,000,000+\n",
      "AlReader -any text book reader : 5,000,000+\n",
      "Offline English Dictionary : 100,000+\n",
      "Offline: English to Tagalog Dictionary : 500,000+\n",
      "FamilySearch Tree : 1,000,000+\n",
      "Cloud of Books : 1,000,000+\n",
      "Recipes of Prophetic Medicine for free : 500,000+\n",
      "Anonymous caller detection : 10,000+\n",
      "Ebook Reader : 5,000,000+\n",
      "Litnet - E-books : 100,000+\n",
      "Read books online : 5,000,000+\n",
      "English to Urdu Dictionary : 500,000+\n",
      "eBoox: book reader fb2 epub zip : 1,000,000+\n",
      "English Persian Dictionary : 500,000+\n",
      "Flybook : 500,000+\n",
      "All Maths Formulas : 1,000,000+\n",
      "Ancestry : 5,000,000+\n",
      "HTC Help : 10,000,000+\n",
      "English translation from Bengali : 100,000+\n",
      "Pdf Book Download - Read Pdf Book : 100,000+\n",
      "Free Book Reader : 100,000+\n",
      "eBoox new: Reader for fb2 epub zip books : 50,000+\n",
      "Only 30 days in English, the guideline is guaranteed : 500,000+\n",
      "Moon+ Reader : 10,000,000+\n",
      "SH-02J Owner's Manual (Android 8.0) : 50,000+\n",
      "English-Myanmar Dictionary : 1,000,000+\n",
      "Golden Dictionary (EN-AR) : 1,000,000+\n",
      "All Language Translator Free : 1,000,000+\n",
      "Azpen eReader : 500,000+\n",
      "URBANO V 02 instruction manual : 100,000+\n",
      "Bible : 100,000,000+\n",
      "C Programs and Reference : 50,000+\n",
      "C Offline Tutorial : 1,000+\n",
      "C Programs Handbook : 50,000+\n",
      "Amazon Kindle : 100,000,000+\n",
      "Aab e Hayat Full Novel : 100,000+\n",
      "Aldiko Book Reader : 10,000,000+\n",
      "Google I/O 2018 : 500,000+\n",
      "R Language Reference Guide : 10,000+\n",
      "Learn R Programming Full : 5,000+\n",
      "R Programing Offline Tutorial : 1,000+\n",
      "Guide for R Programming : 5+\n",
      "Learn R Programming : 10+\n",
      "R Quick Reference Big Data : 1,000+\n",
      "V Made : 100,000+\n",
      "Dictionary - WordWeb : 5,000,000+\n",
      "Guide (for X-MEN) : 100,000+\n",
      "AC Air condition Troubleshoot,Repair,Maintenance : 5,000+\n",
      "AE Bulletins : 1,000+\n",
      "Ae Allah na Dai (Rasa) : 10,000+\n",
      "50000 Free eBooks & Free AudioBooks : 5,000,000+\n",
      "Ag PhD Field Guide : 10,000+\n",
      "Ag PhD Deficiencies : 10,000+\n",
      "Ag PhD Planting Population Calculator : 1,000+\n",
      "Ag PhD Soybean Diseases : 1,000+\n",
      "Fertilizer Removal By Crop : 50,000+\n",
      "A-J Media Vault : 50+\n",
      "Al-Quran (Free) : 10,000,000+\n",
      "Al Quran (Tafsir & by Word) : 500,000+\n",
      "Al Quran Indonesia : 10,000,000+\n",
      "Al'Quran Bahasa Indonesia : 10,000,000+\n",
      "Al Quran Al karim : 1,000,000+\n",
      "Al-Muhaffiz : 50,000+\n",
      "Al Quran : EAlim - Translations & MP3 Offline : 5,000,000+\n",
      "Al-Quran 30 Juz free copies : 500,000+\n",
      "Koran Read &MP3 30 Juz Offline : 1,000,000+\n",
      "Hafizi Quran 15 lines per page : 1,000,000+\n",
      "Quran for Android : 10,000,000+\n",
      "Surah Al-Waqiah : 100,000+\n",
      "Hisnul Al Muslim - Hisn Invocations & Adhkaar : 100,000+\n",
      "Satellite AR : 1,000,000+\n",
      "Audiobooks from Audible : 100,000,000+\n",
      "Kinot & Eichah for Tisha B'Av : 10,000+\n",
      "AW Tozer Devotionals - Daily : 5,000+\n",
      "Tozer Devotional -Series 1 : 1,000+\n",
      "The Pursuit of God : 1,000+\n",
      "AY Sing : 5,000+\n",
      "Ay Hasnain k Nana Milad Naat : 10,000+\n",
      "Ay Mohabbat Teri Khatir Novel : 10,000+\n",
      "Arizona Statutes, ARS (AZ Law) : 1,000+\n",
      "Oxford A-Z of English Usage : 1,000,000+\n",
      "BD Fishpedia : 1,000+\n",
      "BD All Sim Offer : 10,000+\n",
      "Youboox - Livres, BD et magazines : 500,000+\n",
      "B&H Kids AR : 10,000+\n",
      "Dictionary.com: Find Definitions for English Words : 10,000,000+\n",
      "English Dictionary - Offline : 10,000,000+\n",
      "Bible KJV : 5,000,000+\n",
      "Borneo Bible, BM Bible : 10,000+\n",
      "MOD Black for BM : 100+\n",
      "BM Box : 1,000+\n",
      "Anime Mod for BM : 100+\n",
      "NOOK: Read eBooks & Magazines : 10,000,000+\n",
      "NOOK Audiobooks : 500,000+\n",
      "NOOK App for NOOK Devices : 500,000+\n",
      "Browsery by Barnes & Noble : 5,000+\n",
      "bp e-store : 1,000+\n",
      "Brilliant Quotes: Life, Love, Family & Motivation : 1,000,000+\n",
      "BR Ambedkar Biography & Quotes : 10,000+\n",
      "BU Alsace : 100+\n",
      "Catholic La Bu Zo Kam : 500+\n",
      "Khrifa Hla Bu (Solfa) : 10+\n",
      "Kristian Hla Bu : 10,000+\n",
      "SA HLA BU : 1,000+\n",
      "Learn SAP BW : 500+\n",
      "Learn SAP BW on HANA : 500+\n",
      "CA Laws 2018 (California Laws and Codes) : 5,000+\n",
      "Bootable Methods(USB-CD-DVD) : 10,000+\n",
      "cloudLibrary : 100,000+\n",
      "SDA Collegiate Quarterly : 500+\n",
      "Sabbath School : 100,000+\n",
      "Cypress College Library : 100+\n",
      "Stats Royale for Clash Royale : 1,000,000+\n",
      "GATE 21 years CS Papers(2011-2018 Solved) : 50+\n",
      "Learn CT Scan Of Head : 5,000+\n",
      "Easy Cv maker 2018 : 10,000+\n",
      "How to Write CV : 100,000+\n",
      "CW Nuclear : 1,000+\n",
      "CY Spray nozzle : 10+\n",
      "BibleRead En Cy Zh Yue : 5+\n",
      "CZ-Help : 5+\n",
      "Guide for DB Xenoverse : 10,000+\n",
      "Guide for DB Xenoverse 2 : 10,000+\n",
      "Guide for IMS DB : 10+\n",
      "DC HSEMA : 5,000+\n",
      "DC Public Library : 1,000+\n",
      "Painting Lulu DC Super Friends : 1,000+\n",
      "Dictionary : 10,000,000+\n",
      "Fix Error Google Playstore : 1,000+\n",
      "D. H. Lawrence Poems FREE : 1,000+\n",
      "Bilingual Dictionary Audio App : 5,000+\n",
      "DM Screen : 10,000+\n",
      "wikiHow: how to do anything : 1,000,000+\n",
      "Dr. Doug's Tips : 1,000+\n",
      "Bible du Semeur-BDS (French) : 50,000+\n",
      "La citadelle du musulman : 50,000+\n",
      "DV 2019 Entry Guide : 10,000+\n",
      "DV 2019 - EDV Photo & Form : 50,000+\n",
      "DV 2018 Winners Guide : 1,000+\n",
      "EB Annual Meetings : 1,000+\n",
      "EC - AP & Telangana : 5,000+\n",
      "TN Patta Citta & EC : 10,000+\n",
      "AP Stamps and Registration : 10,000+\n",
      "CompactiMa EC pH Calibration : 100+\n",
      "EGW Writings 2 : 100,000+\n",
      "EGW Writings : 1,000,000+\n",
      "Bible with EGW Comments : 100,000+\n",
      "My Little Pony AR Guide : 1,000,000+\n",
      "SDA Sabbath School Quarterly : 500,000+\n",
      "Duaa Ek Ibaadat : 5,000+\n",
      "Spanish English Translator : 10,000,000+\n",
      "Dictionary - Merriam-Webster : 10,000,000+\n",
      "JW Library : 10,000,000+\n",
      "Oxford Dictionary of English : Free : 10,000,000+\n",
      "English Hindi Dictionary : 10,000,000+\n",
      "English to Hindi Dictionary : 5,000,000+\n",
      "EP Research Service : 1,000+\n",
      "Hymnes et Louanges : 100,000+\n",
      "EU Charter : 1,000+\n",
      "EU Data Protection : 1,000+\n",
      "EU IP Codes : 100+\n",
      "EW PDF : 5+\n",
      "BakaReader EX : 100,000+\n",
      "EZ Quran : 50,000+\n",
      "La Fe de Jesus : 1,000+\n",
      "Le Fe de Jesus : 500+\n",
      "Florida - Pocket Brainbook : 1,000+\n",
      "Florida Statutes (FL Code) : 1,000+\n",
      "English To Shona Dictionary : 10,000+\n",
      "Greek Bible FP (Audio) : 1,000+\n",
      "Golden Dictionary (FR-AR) : 500,000+\n",
      "Fanfic-FR : 5,000+\n",
      "Bulgarian French Dictionary Fr : 10,000+\n",
      "Chemin (fr) : 1,000+\n",
      "The SCP Foundation DB fr nn5n : 1,000+\n"
     ]
    }
   ],
   "source": [
    "# exploring data on apps in the books and reference category\n",
    "\n",
    "for app in android_final:\n",
    "    if app[1] == 'BOOKS_AND_REFERENCE':\n",
    "        print(app[0], ':', app[5])"
   ]
  },
  {
   "cell_type": "code",
   "execution_count": 112,
   "metadata": {},
   "outputs": [
    {
     "name": "stdout",
     "output_type": "stream",
     "text": [
      "Google Play Books : 1,000,000,000+\n",
      "Bible : 100,000,000+\n",
      "Amazon Kindle : 100,000,000+\n",
      "Audiobooks from Audible : 100,000,000+\n"
     ]
    }
   ],
   "source": [
    "\n",
    "for app in android_final:\n",
    "    if app[1] == 'BOOKS_AND_REFERENCE' and (app[5] == '1,000,000,000+' or app[5] == '500,000,000+'\n",
    "    or app[5] == '100,000,000+'):\n",
    "        print(app[0], ':', app[5])"
   ]
  },
  {
   "cell_type": "markdown",
   "metadata": {},
   "source": [
    "The book and reference genre includes a variety of apps: software for processing and reading ebooks, various collections of libraries, dictionaries, tutorials on programming or languages, etc. It seems there's still a small number of extremely popular apps that skew the average."
   ]
  },
  {
   "cell_type": "code",
   "execution_count": 113,
   "metadata": {},
   "outputs": [
    {
     "name": "stdout",
     "output_type": "stream",
     "text": [
      "Wikipedia : 10,000,000+\n",
      "Cool Reader : 10,000,000+\n",
      "Book store : 1,000,000+\n",
      "FBReader: Favorite Book Reader : 10,000,000+\n",
      "Free Books - Spirit Fanfiction and Stories : 1,000,000+\n",
      "AlReader -any text book reader : 5,000,000+\n",
      "FamilySearch Tree : 1,000,000+\n",
      "Cloud of Books : 1,000,000+\n",
      "Ebook Reader : 5,000,000+\n",
      "Read books online : 5,000,000+\n",
      "eBoox: book reader fb2 epub zip : 1,000,000+\n",
      "All Maths Formulas : 1,000,000+\n",
      "Ancestry : 5,000,000+\n",
      "HTC Help : 10,000,000+\n",
      "Moon+ Reader : 10,000,000+\n",
      "English-Myanmar Dictionary : 1,000,000+\n",
      "Golden Dictionary (EN-AR) : 1,000,000+\n",
      "All Language Translator Free : 1,000,000+\n",
      "Aldiko Book Reader : 10,000,000+\n",
      "Dictionary - WordWeb : 5,000,000+\n",
      "50000 Free eBooks & Free AudioBooks : 5,000,000+\n",
      "Al-Quran (Free) : 10,000,000+\n",
      "Al Quran Indonesia : 10,000,000+\n",
      "Al'Quran Bahasa Indonesia : 10,000,000+\n",
      "Al Quran Al karim : 1,000,000+\n",
      "Al Quran : EAlim - Translations & MP3 Offline : 5,000,000+\n",
      "Koran Read &MP3 30 Juz Offline : 1,000,000+\n",
      "Hafizi Quran 15 lines per page : 1,000,000+\n",
      "Quran for Android : 10,000,000+\n",
      "Satellite AR : 1,000,000+\n",
      "Oxford A-Z of English Usage : 1,000,000+\n",
      "Dictionary.com: Find Definitions for English Words : 10,000,000+\n",
      "English Dictionary - Offline : 10,000,000+\n",
      "Bible KJV : 5,000,000+\n",
      "NOOK: Read eBooks & Magazines : 10,000,000+\n",
      "Brilliant Quotes: Life, Love, Family & Motivation : 1,000,000+\n",
      "Stats Royale for Clash Royale : 1,000,000+\n",
      "Dictionary : 10,000,000+\n",
      "wikiHow: how to do anything : 1,000,000+\n",
      "EGW Writings : 1,000,000+\n",
      "My Little Pony AR Guide : 1,000,000+\n",
      "Spanish English Translator : 10,000,000+\n",
      "Dictionary - Merriam-Webster : 10,000,000+\n",
      "JW Library : 10,000,000+\n",
      "Oxford Dictionary of English : Free : 10,000,000+\n",
      "English Hindi Dictionary : 10,000,000+\n",
      "English to Hindi Dictionary : 5,000,000+\n"
     ]
    }
   ],
   "source": [
    "for app in android_final:    \n",
    "    if app[1] == 'BOOKS_AND_REFERENCE' and (app[5] == '1,000,000+'\n",
    "    or app[5] == '5,000,000+' or app[5] == '10,000,000+' or app[5] == '50,000,000+'):\n",
    "        print(app[0], ':', app[5])"
   ]
  },
  {
   "cell_type": "markdown",
   "metadata": {},
   "source": [
    "Apps in ths category ranging between 1m and 100m in installations are largely restricted to processing and reading ebooks as well as collections of libraries and dictionaries. Few apps are built around the Quran indicating profitability in bulding an app around a popular book. Additional features other than the original content of the book would be a good way to add more value offered by the aplication and increase its utility among potential users. Features such as quizes, daily quotes and audio snippets might prove to be valuabale additions to the application."
   ]
  },
  {
   "cell_type": "markdown",
   "metadata": {},
   "source": [
    "# Conclusion\n",
    "\n",
    "The project was centered around analysing data about the App Store and Google Play mobile apps with the goal of recommending an app profile that can be profitable for both markets.\n",
    "\n",
    "The conclusion was that taking a popular book (perhaps a more recent book) and turning it into an app could be profitable for both the Google Play and the App Store markets. The markets are already full of libraries, so we need to add some special features besides the raw version of the book. This might include daily quotes from the book, an audio version of the book, quizzes on the book, a forum where people can discuss the book, etc."
   ]
  }
 ],
 "metadata": {
  "kernelspec": {
   "display_name": "Python 3",
   "language": "python",
   "name": "python3"
  },
  "language_info": {
   "codemirror_mode": {
    "name": "ipython",
    "version": 3
   },
   "file_extension": ".py",
   "mimetype": "text/x-python",
   "name": "python",
   "nbconvert_exporter": "python",
   "pygments_lexer": "ipython3",
   "version": "3.7.3"
  }
 },
 "nbformat": 4,
 "nbformat_minor": 2
}
